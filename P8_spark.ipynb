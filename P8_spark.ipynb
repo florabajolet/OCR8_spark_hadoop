{
 "cells": [
  {
   "cell_type": "code",
   "execution_count": 7,
   "metadata": {},
   "outputs": [],
   "source": [
    "from pyspark import SparkContext\n",
    "from pyspark.sql import SparkSession\n",
    "import findspark\n",
    "findspark.init()\n",
    "from pyspark.sql.functions import col, split"
   ]
  },
  {
   "cell_type": "markdown",
   "metadata": {},
   "source": [
    "# Set-up bucket and spark"
   ]
  },
  {
   "cell_type": "markdown",
   "metadata": {},
   "source": [
    "Check bucket content."
   ]
  },
  {
   "cell_type": "code",
   "execution_count": 2,
   "metadata": {},
   "outputs": [],
   "source": [
    "spark = SparkSession \\\n",
    "    .builder \\\n",
    "    .appName(\"computer_vision\") \\\n",
    "    .master(\"local\") \\\n",
    "    .config(\"spark.hadoop.google.cloud.auth.service.account.enable\",\"true\") \\\n",
    "    .config(\"google.cloud.auth.service.account.json.keyfile\", \"/path/to/json\") \\\n",
    "    .getOrCreate()\n",
    "    #.config (\"spark.hadoop.fs.gs.project.id\", \"oceanic-hold-342316\") \\\n",
    "    #.config(\"spark.hadoop.fs.gs.auth.service.account.email\", \"email\") \\\n",
    "    #.config(\"spark.hadoop.fs.gs.auth.service.account.private.key.id\", \"key_id\") \\\n",
    "    #.config(\"spark.hadoop.fs.gs.auth.service.account.private.key\", \"key\") \\"
   ]
  },
  {
   "cell_type": "code",
   "execution_count": 3,
   "metadata": {},
   "outputs": [],
   "source": [
    "conf = spark.sparkContext._jsc.hadoopConfiguration()\n",
    "conf.set(\"fs.gs.impl\", \"com.google.cloud.hadoop.fs.gcs.GoogleHadoopFileSystem\")\n",
    "conf.set(\"fs.AbstractFileSystem.gs.impl\", \"com.google.cloud.hadoop.fs.gcs.GoogleHadoopFS\")"
   ]
  },
  {
   "cell_type": "code",
   "execution_count": 4,
   "metadata": {},
   "outputs": [],
   "source": [
    "#!gsutil ls gs://p8_computer_vision/img/*"
   ]
  },
  {
   "cell_type": "code",
   "execution_count": 6,
   "metadata": {},
   "outputs": [
    {
     "name": "stdout",
     "output_type": "stream",
     "text": [
      "root\n",
      " |-- image: struct (nullable = true)\n",
      " |    |-- origin: string (nullable = true)\n",
      " |    |-- height: integer (nullable = true)\n",
      " |    |-- width: integer (nullable = true)\n",
      " |    |-- nChannels: integer (nullable = true)\n",
      " |    |-- mode: integer (nullable = true)\n",
      " |    |-- data: binary (nullable = true)\n",
      "\n"
     ]
    }
   ],
   "source": [
    "path_img = \"gs://p8_computer_vision/img/*\"\n",
    "img_all = spark.read.format(\"image\").load(path_img)\n",
    "img_all.printSchema()"
   ]
  },
  {
   "cell_type": "code",
   "execution_count": 21,
   "metadata": {},
   "outputs": [
    {
     "name": "stdout",
     "output_type": "stream",
     "text": [
      "+--------------------+-----+------+--------------------+------------------+\n",
      "|              origin|width|height|                data|            target|\n",
      "+--------------------+-----+------+--------------------+------------------+\n",
      "|gs://p8_computer_...|  100|   100|[FB FF FF FB FF F...|apple_crimson_snow|\n",
      "|gs://p8_computer_...|  100|   100|[FD FE FF FD FE F...|apple_crimson_snow|\n",
      "|gs://p8_computer_...|  100|   100|[FD FF FF FD FF F...|apple_crimson_snow|\n",
      "|gs://p8_computer_...|  100|   100|[FF FF FF FF FF F...|           avocado|\n",
      "|gs://p8_computer_...|  100|   100|[FF FF FF FF FF F...|           avocado|\n",
      "|gs://p8_computer_...|  100|   100|[FF FF FF FF FF F...|           avocado|\n",
      "|gs://p8_computer_...|  100|   100|[FF FF FF FF FF F...|            banana|\n",
      "|gs://p8_computer_...|  100|   100|[FF FF FF FF FF F...|            banana|\n",
      "|gs://p8_computer_...|  100|   100|[FF FF FF FF FF F...|            banana|\n",
      "+--------------------+-----+------+--------------------+------------------+\n",
      "\n"
     ]
    }
   ],
   "source": [
    "img_df = img_all.select(\"image.origin\", \"image.width\", \"image.height\", \"image.data\")\n",
    "img_df = img_df.withColumn(\"target\", split(col(\"origin\"), \"/\") \\\n",
    "    .getItem(4))\n",
    "img_df.show()"
   ]
  },
  {
   "cell_type": "code",
   "execution_count": null,
   "metadata": {},
   "outputs": [],
   "source": []
  },
  {
   "cell_type": "code",
   "execution_count": null,
   "metadata": {},
   "outputs": [],
   "source": []
  },
  {
   "cell_type": "code",
   "execution_count": null,
   "metadata": {},
   "outputs": [],
   "source": []
  },
  {
   "cell_type": "code",
   "execution_count": null,
   "metadata": {},
   "outputs": [],
   "source": []
  },
  {
   "cell_type": "code",
   "execution_count": null,
   "metadata": {},
   "outputs": [],
   "source": []
  },
  {
   "cell_type": "code",
   "execution_count": null,
   "metadata": {},
   "outputs": [],
   "source": []
  }
 ],
 "metadata": {
  "interpreter": {
   "hash": "1af528444e0572230490a14d32752323394e97e77fc75e5665562ae936a06b0b"
  },
  "kernelspec": {
   "display_name": "Python 3.8.8 ('base')",
   "language": "python",
   "name": "python3"
  },
  "language_info": {
   "codemirror_mode": {
    "name": "ipython",
    "version": 3
   },
   "file_extension": ".py",
   "mimetype": "text/x-python",
   "name": "python",
   "nbconvert_exporter": "python",
   "pygments_lexer": "ipython3",
   "version": "3.8.8"
  },
  "orig_nbformat": 4
 },
 "nbformat": 4,
 "nbformat_minor": 2
}
