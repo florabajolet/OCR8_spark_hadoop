{
 "cells": [
  {
   "cell_type": "code",
   "execution_count": 1,
   "metadata": {},
   "outputs": [],
   "source": [
    "import pandas as pd"
   ]
  },
  {
   "cell_type": "code",
   "execution_count": 3,
   "metadata": {},
   "outputs": [
    {
     "data": {
      "text/html": [
       "<div>\n",
       "<style scoped>\n",
       "    .dataframe tbody tr th:only-of-type {\n",
       "        vertical-align: middle;\n",
       "    }\n",
       "\n",
       "    .dataframe tbody tr th {\n",
       "        vertical-align: top;\n",
       "    }\n",
       "\n",
       "    .dataframe thead th {\n",
       "        text-align: right;\n",
       "    }\n",
       "</style>\n",
       "<table border=\"1\" class=\"dataframe\">\n",
       "  <thead>\n",
       "    <tr style=\"text-align: right;\">\n",
       "      <th></th>\n",
       "      <th>path</th>\n",
       "      <th>target</th>\n",
       "      <th>pca_coord</th>\n",
       "    </tr>\n",
       "  </thead>\n",
       "  <tbody>\n",
       "    <tr>\n",
       "      <th>0</th>\n",
       "      <td>gs://p8_computer_vision/img/cabbage/r0_0.jpg</td>\n",
       "      <td>cabbage</td>\n",
       "      <td>[-82.1518827681949,-79.27634656024036,-37.2012...</td>\n",
       "    </tr>\n",
       "    <tr>\n",
       "      <th>1</th>\n",
       "      <td>gs://p8_computer_vision/img/cabbage/r0_134.jpg</td>\n",
       "      <td>cabbage</td>\n",
       "      <td>[-73.02657746050801,-64.5387977665675,-16.8098...</td>\n",
       "    </tr>\n",
       "    <tr>\n",
       "      <th>2</th>\n",
       "      <td>gs://p8_computer_vision/img/cabbage/r0_186.jpg</td>\n",
       "      <td>cabbage</td>\n",
       "      <td>[-88.63254522167699,-89.15079731894156,-41.614...</td>\n",
       "    </tr>\n",
       "    <tr>\n",
       "      <th>3</th>\n",
       "      <td>gs://p8_computer_vision/img/apple_crimson_snow...</td>\n",
       "      <td>apple_crimson_snow</td>\n",
       "      <td>[-22.206330001760662,32.25776367814735,34.2310...</td>\n",
       "    </tr>\n",
       "    <tr>\n",
       "      <th>4</th>\n",
       "      <td>gs://p8_computer_vision/img/pear/r0_0.jpg</td>\n",
       "      <td>pear</td>\n",
       "      <td>[243.45895264143496,-95.68042676449285,-41.091...</td>\n",
       "    </tr>\n",
       "    <tr>\n",
       "      <th>5</th>\n",
       "      <td>gs://p8_computer_vision/img/apple_crimson_snow...</td>\n",
       "      <td>apple_crimson_snow</td>\n",
       "      <td>[-20.60586740555859,32.22119258711061,42.12387...</td>\n",
       "    </tr>\n",
       "    <tr>\n",
       "      <th>6</th>\n",
       "      <td>gs://p8_computer_vision/img/pear/r1_0.jpg</td>\n",
       "      <td>pear</td>\n",
       "      <td>[47.59239403734187,58.40785166583318,153.47531...</td>\n",
       "    </tr>\n",
       "    <tr>\n",
       "      <th>7</th>\n",
       "      <td>gs://p8_computer_vision/img/apple_crimson_snow...</td>\n",
       "      <td>apple_crimson_snow</td>\n",
       "      <td>[-23.634863031651193,27.651118251709196,43.315...</td>\n",
       "    </tr>\n",
       "    <tr>\n",
       "      <th>8</th>\n",
       "      <td>gs://p8_computer_vision/img/pear/r1_98.jpg</td>\n",
       "      <td>pear</td>\n",
       "      <td>[19.20671921053944,178.10844222745072,-136.428...</td>\n",
       "    </tr>\n",
       "  </tbody>\n",
       "</table>\n",
       "</div>"
      ],
      "text/plain": [
       "                                                path              target  \\\n",
       "0       gs://p8_computer_vision/img/cabbage/r0_0.jpg             cabbage   \n",
       "1     gs://p8_computer_vision/img/cabbage/r0_134.jpg             cabbage   \n",
       "2     gs://p8_computer_vision/img/cabbage/r0_186.jpg             cabbage   \n",
       "3  gs://p8_computer_vision/img/apple_crimson_snow...  apple_crimson_snow   \n",
       "4          gs://p8_computer_vision/img/pear/r0_0.jpg                pear   \n",
       "5  gs://p8_computer_vision/img/apple_crimson_snow...  apple_crimson_snow   \n",
       "6          gs://p8_computer_vision/img/pear/r1_0.jpg                pear   \n",
       "7  gs://p8_computer_vision/img/apple_crimson_snow...  apple_crimson_snow   \n",
       "8         gs://p8_computer_vision/img/pear/r1_98.jpg                pear   \n",
       "\n",
       "                                           pca_coord  \n",
       "0  [-82.1518827681949,-79.27634656024036,-37.2012...  \n",
       "1  [-73.02657746050801,-64.5387977665675,-16.8098...  \n",
       "2  [-88.63254522167699,-89.15079731894156,-41.614...  \n",
       "3  [-22.206330001760662,32.25776367814735,34.2310...  \n",
       "4  [243.45895264143496,-95.68042676449285,-41.091...  \n",
       "5  [-20.60586740555859,32.22119258711061,42.12387...  \n",
       "6  [47.59239403734187,58.40785166583318,153.47531...  \n",
       "7  [-23.634863031651193,27.651118251709196,43.315...  \n",
       "8  [19.20671921053944,178.10844222745072,-136.428...  "
      ]
     },
     "execution_count": 3,
     "metadata": {},
     "output_type": "execute_result"
    }
   ],
   "source": [
    "data_exported = pd.read_csv(\"data_pca.csv\", encoding=\"utf-8\")\n",
    "data_exported"
   ]
  },
  {
   "cell_type": "code",
   "execution_count": null,
   "metadata": {},
   "outputs": [],
   "source": []
  },
  {
   "cell_type": "code",
   "execution_count": null,
   "metadata": {},
   "outputs": [],
   "source": []
  },
  {
   "cell_type": "code",
   "execution_count": null,
   "metadata": {},
   "outputs": [],
   "source": []
  }
 ],
 "metadata": {
  "interpreter": {
   "hash": "ef7f9a8012d9131766e31894c279374cc63c73121ed4db3b9e67a294a4bf0e74"
  },
  "kernelspec": {
   "display_name": "Python 3.8.8 ('base')",
   "language": "python",
   "name": "python3"
  },
  "language_info": {
   "codemirror_mode": {
    "name": "ipython",
    "version": 3
   },
   "file_extension": ".py",
   "mimetype": "text/x-python",
   "name": "python",
   "nbconvert_exporter": "python",
   "pygments_lexer": "ipython3",
   "version": "3.8.8"
  },
  "orig_nbformat": 4
 },
 "nbformat": 4,
 "nbformat_minor": 2
}
